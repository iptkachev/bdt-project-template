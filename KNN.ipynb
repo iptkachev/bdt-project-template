{
 "cells": [
  {
   "cell_type": "markdown",
   "metadata": {},
   "source": [
    "Материалы адаптированы из курса [Deep learning на пальцах](https://github.com/sim0nsays/dlcourse_ai/blob/master/assignments/assignment1/KNN.ipynb)"
   ]
  },
  {
   "cell_type": "markdown",
   "metadata": {},
   "source": [
    "#  Метод К-ближайших соседей (K-neariest neighbor classifier)\n",
    "\n",
    "В первом задании вы реализуете один из простейших алгоритмов машинного обучения - классификатор на основе метода K-ближайших соседей.\n",
    "\n",
    "Перед выполнением задания:\n",
    "- установите все необходимые библиотеки, запустив `pip install -r requirements.txt` (если раньше не работали с `pip`, вам сюда - https://pip.pypa.io/en/stable/quickstart/)\n",
    "\n",
    "Если вы раньше не работали с numpy, вам может помочь tutorial. Например этот:  \n",
    "http://cs231n.github.io/python-numpy-tutorial/"
   ]
  },
  {
   "cell_type": "code",
   "execution_count": 51,
   "metadata": {},
   "outputs": [
    {
     "name": "stdout",
     "output_type": "stream",
     "text": [
      "The autoreload extension is already loaded. To reload it, use:\n",
      "  %reload_ext autoreload\n"
     ]
    }
   ],
   "source": [
    "import numpy as np\n",
    "import matplotlib.pyplot as plt\n",
    "from sklearn.datasets import load_digits\n",
    "from sklearn.model_selection import train_test_split\n",
    "from sklearn.neighbors import KNeighborsClassifier as SklearnKNN\n",
    "\n",
    "%matplotlib inline\n",
    "\n",
    "%load_ext autoreload\n",
    "%autoreload 2"
   ]
  },
  {
   "cell_type": "code",
   "execution_count": 137,
   "metadata": {},
   "outputs": [],
   "source": [
    "from knn import KNN"
   ]
  },
  {
   "cell_type": "markdown",
   "metadata": {},
   "source": [
    "# Загрузим и визуализируем данные\n",
    "\n",
    "Мы будем использовать цифры из датасета MNIST."
   ]
  },
  {
   "cell_type": "code",
   "execution_count": 53,
   "metadata": {},
   "outputs": [],
   "source": [
    "X, y = load_digits(n_class=10, return_X_y=True, as_frame=False)\n",
    "X_train, X_test, y_train, y_test = train_test_split(X, y, test_size=0.2, random_state=42)"
   ]
  },
  {
   "cell_type": "code",
   "execution_count": 54,
   "metadata": {},
   "outputs": [
    {
     "data": {
      "image/png": "[encoded data removed]",
      "text/plain": [
       "<Figure size 400x400 with 50 Axes>"
      ]
     },
     "metadata": {},
     "output_type": "display_data"
    }
   ],
   "source": [
    "plt.figure(figsize=(4, 4))\n",
    "plt.gray()\n",
    "\n",
    "samples_per_class = 5  # Number of samples per class to visualize\n",
    "plot_index = 1\n",
    "for example_index in range(samples_per_class):\n",
    "    for class_index in range(10):\n",
    "        plt.subplot(5, 10, plot_index)\n",
    "        image = X_train[y_train == class_index][example_index]\n",
    "        plt.imshow(image.reshape(8, 8, 1).astype(np.uint8))\n",
    "        plt.axis('off')\n",
    "        plot_index += 1"
   ]
  },
  {
   "cell_type": "code",
   "execution_count": 147,
   "metadata": {},
   "outputs": [],
   "source": [
    "# Create the classifier and call fit to train the model\n",
    "# KNN just remembers all the data\n",
    "K_NEIGHBORS = 1\n",
    "\n",
    "knn_classifier = KNN(k=K_NEIGHBORS)\n",
    "knn_classifier.fit(X_train)"
   ]
  },
  {
   "attachments": {
    "image.png": {
     "image/png": "[encoded data removed]"
    }
   },
   "cell_type": "markdown",
   "metadata": {},
   "source": [
    "## Пришло время написать код! \n",
    "\n",
    "Последовательно реализуйте функции `compute_distances_two_loops`, `compute_distances_one_loop` и `compute_distances_no_loops`\n",
    "в файле `knn.py`.\n",
    "\n",
    "Эти функции строят массив расстояний между всеми векторами в тестовом наборе и в тренировочном наборе.  \n",
    "В результате они должны построить массив размера `(num_test, num_train)`, где координата `[i][j]` соотвествует расстоянию между i-м вектором в test (`test[i]`) и j-м вектором в train (`train[j]`).\n",
    "\n",
    "**Обратите внимание** Для простоты реализации мы будем использовать в качестве расстояния меру L1 (ее еще называют [Manhattan distance](https://ru.wikipedia.org/wiki/%D0%A0%D0%B0%D1%81%D1%81%D1%82%D0%BE%D1%8F%D0%BD%D0%B8%D0%B5_%D0%B3%D0%BE%D1%80%D0%BE%D0%B4%D1%81%D0%BA%D0%B8%D1%85_%D0%BA%D0%B2%D0%B0%D1%80%D1%82%D0%B0%D0%BB%D0%BE%D0%B2)).\n",
    "\n",
    "![image.png](attachment:image.png)"
   ]
  },
  {
   "cell_type": "code",
   "execution_count": 117,
   "metadata": {},
   "outputs": [],
   "source": [
    "# TODO: implement compute_distances_two_loops in knn.py\n",
    "dists = knn_classifier.compute_distances_two_loops(X_test)\n",
    "assert np.isclose(dists[0, 10], np.sum(np.abs(X_test[0] - X_train[10])))"
   ]
  },
  {
   "cell_type": "code",
   "execution_count": 118,
   "metadata": {},
   "outputs": [],
   "source": [
    "# TODO: implement compute_distances_one_loop in knn.py\n",
    "dists = knn_classifier.compute_distances_one_loop(X_test)\n",
    "assert np.isclose(dists[0, 10], np.sum(np.abs(X_test[0] - X_train[10])))"
   ]
  },
  {
   "cell_type": "code",
   "execution_count": 119,
   "metadata": {},
   "outputs": [],
   "source": [
    "# TODO: implement compute_distances_no_loops in knn.py\n",
    "dists = knn_classifier.compute_distances_no_loops(X_test)\n",
    "assert np.isclose(dists[0, 10], np.sum(np.abs(X_test[0] - X_train[10])))"
   ]
  },
  {
   "cell_type": "code",
   "execution_count": 114,
   "metadata": {},
   "outputs": [],
   "source": [
    "# Lets look at the performance difference\n",
    "%timeit knn_classifier.compute_distances_two_loops(X_test)\n",
    "%timeit knn_classifier.compute_distances_one_loop(X_test)\n",
    "%timeit knn_classifier.compute_distances_no_loops(X_test)"
   ]
  },
  {
   "cell_type": "code",
   "execution_count": 148,
   "metadata": {},
   "outputs": [],
   "source": [
    "# TODO: implement kneighbors in knn.py\n",
    "prediction = knn_classifier.kneighbors(X_test)"
   ]
  },
  {
   "cell_type": "code",
   "execution_count": 149,
   "metadata": {},
   "outputs": [],
   "source": [
    "sklearn_classifier = SklearnKNN(n_neighbors=K_NEIGHBORS, metric='l1')\n",
    "sklearn_classifier.fit(X_train, y_train)\n",
    "true_prediction = sklearn_classifier.kneighbors(X_test, return_distance=False)"
   ]
  },
  {
   "cell_type": "code",
   "execution_count": 150,
   "metadata": {},
   "outputs": [],
   "source": [
    "assert np.isclose(true_prediction[:5], prediction[:5]).all()"
   ]
  }
 ],
 "metadata": {
  "kernelspec": {
   "display_name": "Python 3 (ipykernel)",
   "language": "python",
   "name": "python3"
  },
  "language_info": {
   "codemirror_mode": {
    "name": "ipython",
    "version": 3
   },
   "file_extension": ".py",
   "mimetype": "text/x-python",
   "name": "python",
   "nbconvert_exporter": "python",
   "pygments_lexer": "ipython3",
   "version": "3.10.8"
  }
 },
 "nbformat": 4,
 "nbformat_minor": 2
}
